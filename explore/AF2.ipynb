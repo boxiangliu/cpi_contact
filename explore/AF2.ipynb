{
 "cells": [
  {
   "cell_type": "code",
   "execution_count": 2,
   "metadata": {},
   "outputs": [],
   "source": [
    "import pickle as pkl\n",
    "import os\n",
    "result_dir = \"/mnt/storage/idl-0/bio/juneki/output/6I1A_B/target\""
   ]
  },
  {
   "cell_type": "code",
   "execution_count": 3,
   "metadata": {},
   "outputs": [],
   "source": [
    "with open(os.path.join(result_dir, \"features.pkl\"), \"rb\") as f:\n",
    "    features = pkl.load(f)"
   ]
  },
  {
   "cell_type": "code",
   "execution_count": 5,
   "metadata": {},
   "outputs": [
    {
     "data": {
      "text/plain": [
       "dict_keys(['aatype', 'between_segment_residues', 'domain_name', 'residue_index', 'seq_length', 'sequence', 'deletion_matrix_int', 'msa', 'num_alignments', 'template_aatype', 'template_all_atom_masks', 'template_all_atom_positions', 'template_domain_names', 'template_sequence', 'template_sum_probs'])"
      ]
     },
     "execution_count": 5,
     "metadata": {},
     "output_type": "execute_result"
    }
   ],
   "source": [
    "features.keys()"
   ]
  },
  {
   "cell_type": "code",
   "execution_count": 7,
   "metadata": {},
   "outputs": [
    {
     "data": {
      "text/plain": [
       "(370, 21)"
      ]
     },
     "execution_count": 7,
     "metadata": {},
     "output_type": "execute_result"
    }
   ],
   "source": [
    "features[\"aatype\"].shape"
   ]
  },
  {
   "cell_type": "code",
   "execution_count": 9,
   "metadata": {},
   "outputs": [
    {
     "data": {
      "text/plain": [
       "array([0, 0, 0, 0, 0, 0, 0, 0, 0, 0, 0, 0, 0, 0, 0, 0, 0, 0, 0, 0, 0, 0,\n",
       "       0, 0, 0, 0, 0, 0, 0, 0, 0, 0, 0, 0, 0, 0, 0, 0, 0, 0, 0, 0, 0, 0,\n",
       "       0, 0, 0, 0, 0, 0, 0, 0, 0, 0, 0, 0, 0, 0, 0, 0, 0, 0, 0, 0, 0, 0,\n",
       "       0, 0, 0, 0, 0, 0, 0, 0, 0, 0, 0, 0, 0, 0, 0, 0, 0, 0, 0, 0, 0, 0,\n",
       "       0, 0, 0, 0, 0, 0, 0, 0, 0, 0, 0, 0, 0, 0, 0, 0, 0, 0, 0, 0, 0, 0,\n",
       "       0, 0, 0, 0, 0, 0, 0, 0, 0, 0, 0, 0, 0, 0, 0, 0, 0, 0, 0, 0, 0, 0,\n",
       "       0, 0, 0, 0, 0, 0, 0, 0, 0, 0, 0, 0, 0, 0, 0, 0, 0, 0, 0, 0, 0, 0,\n",
       "       0, 0, 0, 0, 0, 0, 0, 0, 0, 0, 0, 0, 0, 0, 0, 0, 0, 0, 0, 0, 0, 0,\n",
       "       0, 0, 0, 0, 0, 0, 0, 0, 0, 0, 0, 0, 0, 0, 0, 0, 0, 0, 0, 0, 0, 0,\n",
       "       0, 0, 0, 0, 0, 0, 0, 0, 0, 0, 0, 0, 0, 0, 0, 0, 0, 0, 0, 0, 0, 0,\n",
       "       0, 0, 0, 0, 0, 0, 0, 0, 0, 0, 0, 0, 0, 0, 0, 0, 0, 0, 0, 0, 0, 0,\n",
       "       0, 0, 0, 0, 0, 0, 0, 0, 0, 0, 0, 0, 0, 0, 0, 0, 0, 0, 0, 0, 0, 0,\n",
       "       0, 0, 0, 0, 0, 0, 0, 0, 0, 0, 0, 0, 0, 0, 0, 0, 0, 0, 0, 0, 0, 0,\n",
       "       0, 0, 0, 0, 0, 0, 0, 0, 0, 0, 0, 0, 0, 0, 0, 0, 0, 0, 0, 0, 0, 0,\n",
       "       0, 0, 0, 0, 0, 0, 0, 0, 0, 0, 0, 0, 0, 0, 0, 0, 0, 0, 0, 0, 0, 0,\n",
       "       0, 0, 0, 0, 0, 0, 0, 0, 0, 0, 0, 0, 0, 0, 0, 0, 0, 0, 0, 0, 0, 0,\n",
       "       0, 0, 0, 0, 0, 0, 0, 0, 0, 0, 0, 0, 0, 0, 0, 0, 0, 0], dtype=int32)"
      ]
     },
     "execution_count": 9,
     "metadata": {},
     "output_type": "execute_result"
    }
   ],
   "source": [
    "features[\"between_segment_residues\"]"
   ]
  },
  {
   "cell_type": "code",
   "execution_count": 10,
   "metadata": {},
   "outputs": [
    {
     "data": {
      "text/plain": [
       "array([b'2020-01-25_00000013_1'], dtype=object)"
      ]
     },
     "execution_count": 10,
     "metadata": {},
     "output_type": "execute_result"
    }
   ],
   "source": [
    "features[\"domain_name\"]"
   ]
  },
  {
   "cell_type": "code",
   "execution_count": 11,
   "metadata": {},
   "outputs": [
    {
     "data": {
      "text/plain": [
       "array([  0,   1,   2,   3,   4,   5,   6,   7,   8,   9,  10,  11,  12,\n",
       "        13,  14,  15,  16,  17,  18,  19,  20,  21,  22,  23,  24,  25,\n",
       "        26,  27,  28,  29,  30,  31,  32,  33,  34,  35,  36,  37,  38,\n",
       "        39,  40,  41,  42,  43,  44,  45,  46,  47,  48,  49,  50,  51,\n",
       "        52,  53,  54,  55,  56,  57,  58,  59,  60,  61,  62,  63,  64,\n",
       "        65,  66,  67,  68,  69,  70,  71,  72,  73,  74,  75,  76,  77,\n",
       "        78,  79,  80,  81,  82,  83,  84,  85,  86,  87,  88,  89,  90,\n",
       "        91,  92,  93,  94,  95,  96,  97,  98,  99, 100, 101, 102, 103,\n",
       "       104, 105, 106, 107, 108, 109, 110, 111, 112, 113, 114, 115, 116,\n",
       "       117, 118, 119, 120, 121, 122, 123, 124, 125, 126, 127, 128, 129,\n",
       "       130, 131, 132, 133, 134, 135, 136, 137, 138, 139, 140, 141, 142,\n",
       "       143, 144, 145, 146, 147, 148, 149, 150, 151, 152, 153, 154, 155,\n",
       "       156, 157, 158, 159, 160, 161, 162, 163, 164, 165, 166, 167, 168,\n",
       "       169, 170, 171, 172, 173, 174, 175, 176, 177, 178, 179, 180, 181,\n",
       "       182, 183, 184, 185, 186, 187, 188, 189, 190, 191, 192, 193, 194,\n",
       "       195, 196, 197, 198, 199, 200, 201, 202, 203, 204, 205, 206, 207,\n",
       "       208, 209, 210, 211, 212, 213, 214, 215, 216, 217, 218, 219, 220,\n",
       "       221, 222, 223, 224, 225, 226, 227, 228, 229, 230, 231, 232, 233,\n",
       "       234, 235, 236, 237, 238, 239, 240, 241, 242, 243, 244, 245, 246,\n",
       "       247, 248, 249, 250, 251, 252, 253, 254, 255, 256, 257, 258, 259,\n",
       "       260, 261, 262, 263, 264, 265, 266, 267, 268, 269, 270, 271, 272,\n",
       "       273, 274, 275, 276, 277, 278, 279, 280, 281, 282, 283, 284, 285,\n",
       "       286, 287, 288, 289, 290, 291, 292, 293, 294, 295, 296, 297, 298,\n",
       "       299, 300, 301, 302, 303, 304, 305, 306, 307, 308, 309, 310, 311,\n",
       "       312, 313, 314, 315, 316, 317, 318, 319, 320, 321, 322, 323, 324,\n",
       "       325, 326, 327, 328, 329, 330, 331, 332, 333, 334, 335, 336, 337,\n",
       "       338, 339, 340, 341, 342, 343, 344, 345, 346, 347, 348, 349, 350,\n",
       "       351, 352, 353, 354, 355, 356, 357, 358, 359, 360, 361, 362, 363,\n",
       "       364, 365, 366, 367, 368, 369], dtype=int32)"
      ]
     },
     "execution_count": 11,
     "metadata": {},
     "output_type": "execute_result"
    }
   ],
   "source": [
    "features[\"residue_index\"]"
   ]
  },
  {
   "cell_type": "code",
   "execution_count": 12,
   "metadata": {},
   "outputs": [
    {
     "data": {
      "text/plain": [
       "array([370, 370, 370, 370, 370, 370, 370, 370, 370, 370, 370, 370, 370,\n",
       "       370, 370, 370, 370, 370, 370, 370, 370, 370, 370, 370, 370, 370,\n",
       "       370, 370, 370, 370, 370, 370, 370, 370, 370, 370, 370, 370, 370,\n",
       "       370, 370, 370, 370, 370, 370, 370, 370, 370, 370, 370, 370, 370,\n",
       "       370, 370, 370, 370, 370, 370, 370, 370, 370, 370, 370, 370, 370,\n",
       "       370, 370, 370, 370, 370, 370, 370, 370, 370, 370, 370, 370, 370,\n",
       "       370, 370, 370, 370, 370, 370, 370, 370, 370, 370, 370, 370, 370,\n",
       "       370, 370, 370, 370, 370, 370, 370, 370, 370, 370, 370, 370, 370,\n",
       "       370, 370, 370, 370, 370, 370, 370, 370, 370, 370, 370, 370, 370,\n",
       "       370, 370, 370, 370, 370, 370, 370, 370, 370, 370, 370, 370, 370,\n",
       "       370, 370, 370, 370, 370, 370, 370, 370, 370, 370, 370, 370, 370,\n",
       "       370, 370, 370, 370, 370, 370, 370, 370, 370, 370, 370, 370, 370,\n",
       "       370, 370, 370, 370, 370, 370, 370, 370, 370, 370, 370, 370, 370,\n",
       "       370, 370, 370, 370, 370, 370, 370, 370, 370, 370, 370, 370, 370,\n",
       "       370, 370, 370, 370, 370, 370, 370, 370, 370, 370, 370, 370, 370,\n",
       "       370, 370, 370, 370, 370, 370, 370, 370, 370, 370, 370, 370, 370,\n",
       "       370, 370, 370, 370, 370, 370, 370, 370, 370, 370, 370, 370, 370,\n",
       "       370, 370, 370, 370, 370, 370, 370, 370, 370, 370, 370, 370, 370,\n",
       "       370, 370, 370, 370, 370, 370, 370, 370, 370, 370, 370, 370, 370,\n",
       "       370, 370, 370, 370, 370, 370, 370, 370, 370, 370, 370, 370, 370,\n",
       "       370, 370, 370, 370, 370, 370, 370, 370, 370, 370, 370, 370, 370,\n",
       "       370, 370, 370, 370, 370, 370, 370, 370, 370, 370, 370, 370, 370,\n",
       "       370, 370, 370, 370, 370, 370, 370, 370, 370, 370, 370, 370, 370,\n",
       "       370, 370, 370, 370, 370, 370, 370, 370, 370, 370, 370, 370, 370,\n",
       "       370, 370, 370, 370, 370, 370, 370, 370, 370, 370, 370, 370, 370,\n",
       "       370, 370, 370, 370, 370, 370, 370, 370, 370, 370, 370, 370, 370,\n",
       "       370, 370, 370, 370, 370, 370, 370, 370, 370, 370, 370, 370, 370,\n",
       "       370, 370, 370, 370, 370, 370, 370, 370, 370, 370, 370, 370, 370,\n",
       "       370, 370, 370, 370, 370, 370], dtype=int32)"
      ]
     },
     "execution_count": 12,
     "metadata": {},
     "output_type": "execute_result"
    }
   ],
   "source": [
    "features[\"seq_length\"]"
   ]
  },
  {
   "cell_type": "code",
   "execution_count": 13,
   "metadata": {},
   "outputs": [
    {
     "data": {
      "text/plain": [
       "array([b'EFRAPLASPPNSSYIDWRTFKGNGVNLGGWLEQESTIDSLFWDKYSGGASDEWGLCEHLGSQCGPVLEHRYATLITKADIDKLASGGITVLRIPTTYAAWIDLPSSQLYSGNQTAYLKEIADYAIKTYNMHIIIDTHSLPGGVNGLTIGEATGHWYWFYNETHFNYSMQVIDQVINFIQTSGSPQSYTLEPINEPADNNTNMVVFGTPLALTDHGAAWVLKYIRAVVQRVESVNPNIPVMFQGSFKYPQYWEGDFPASTNLVFDTHHYYYEHMDSSSENLPEYILADAREKSGTGKFPVFVGEWAIQATYNNTLALRKRNVLAGLETWSSFSQGSSYWTAKFTGNTSVAGQGEQKDYWCYETFIDEGYFN'],\n",
       "      dtype=object)"
      ]
     },
     "execution_count": 13,
     "metadata": {},
     "output_type": "execute_result"
    }
   ],
   "source": [
    "features[\"sequence\"]"
   ]
  },
  {
   "cell_type": "code",
   "execution_count": 15,
   "metadata": {},
   "outputs": [
    {
     "data": {
      "text/plain": [
       "(5857, 370)"
      ]
     },
     "execution_count": 15,
     "metadata": {},
     "output_type": "execute_result"
    }
   ],
   "source": [
    "features[\"deletion_matrix_int\"].shape"
   ]
  },
  {
   "cell_type": "code",
   "execution_count": 17,
   "metadata": {},
   "outputs": [
    {
     "data": {
      "text/plain": [
       "(5857, 370)"
      ]
     },
     "execution_count": 17,
     "metadata": {},
     "output_type": "execute_result"
    }
   ],
   "source": [
    "features[\"msa\"].shape"
   ]
  },
  {
   "cell_type": "code",
   "execution_count": 18,
   "metadata": {},
   "outputs": [
    {
     "data": {
      "text/plain": [
       "array([5857, 5857, 5857, 5857, 5857, 5857, 5857, 5857, 5857, 5857, 5857,\n",
       "       5857, 5857, 5857, 5857, 5857, 5857, 5857, 5857, 5857, 5857, 5857,\n",
       "       5857, 5857, 5857, 5857, 5857, 5857, 5857, 5857, 5857, 5857, 5857,\n",
       "       5857, 5857, 5857, 5857, 5857, 5857, 5857, 5857, 5857, 5857, 5857,\n",
       "       5857, 5857, 5857, 5857, 5857, 5857, 5857, 5857, 5857, 5857, 5857,\n",
       "       5857, 5857, 5857, 5857, 5857, 5857, 5857, 5857, 5857, 5857, 5857,\n",
       "       5857, 5857, 5857, 5857, 5857, 5857, 5857, 5857, 5857, 5857, 5857,\n",
       "       5857, 5857, 5857, 5857, 5857, 5857, 5857, 5857, 5857, 5857, 5857,\n",
       "       5857, 5857, 5857, 5857, 5857, 5857, 5857, 5857, 5857, 5857, 5857,\n",
       "       5857, 5857, 5857, 5857, 5857, 5857, 5857, 5857, 5857, 5857, 5857,\n",
       "       5857, 5857, 5857, 5857, 5857, 5857, 5857, 5857, 5857, 5857, 5857,\n",
       "       5857, 5857, 5857, 5857, 5857, 5857, 5857, 5857, 5857, 5857, 5857,\n",
       "       5857, 5857, 5857, 5857, 5857, 5857, 5857, 5857, 5857, 5857, 5857,\n",
       "       5857, 5857, 5857, 5857, 5857, 5857, 5857, 5857, 5857, 5857, 5857,\n",
       "       5857, 5857, 5857, 5857, 5857, 5857, 5857, 5857, 5857, 5857, 5857,\n",
       "       5857, 5857, 5857, 5857, 5857, 5857, 5857, 5857, 5857, 5857, 5857,\n",
       "       5857, 5857, 5857, 5857, 5857, 5857, 5857, 5857, 5857, 5857, 5857,\n",
       "       5857, 5857, 5857, 5857, 5857, 5857, 5857, 5857, 5857, 5857, 5857,\n",
       "       5857, 5857, 5857, 5857, 5857, 5857, 5857, 5857, 5857, 5857, 5857,\n",
       "       5857, 5857, 5857, 5857, 5857, 5857, 5857, 5857, 5857, 5857, 5857,\n",
       "       5857, 5857, 5857, 5857, 5857, 5857, 5857, 5857, 5857, 5857, 5857,\n",
       "       5857, 5857, 5857, 5857, 5857, 5857, 5857, 5857, 5857, 5857, 5857,\n",
       "       5857, 5857, 5857, 5857, 5857, 5857, 5857, 5857, 5857, 5857, 5857,\n",
       "       5857, 5857, 5857, 5857, 5857, 5857, 5857, 5857, 5857, 5857, 5857,\n",
       "       5857, 5857, 5857, 5857, 5857, 5857, 5857, 5857, 5857, 5857, 5857,\n",
       "       5857, 5857, 5857, 5857, 5857, 5857, 5857, 5857, 5857, 5857, 5857,\n",
       "       5857, 5857, 5857, 5857, 5857, 5857, 5857, 5857, 5857, 5857, 5857,\n",
       "       5857, 5857, 5857, 5857, 5857, 5857, 5857, 5857, 5857, 5857, 5857,\n",
       "       5857, 5857, 5857, 5857, 5857, 5857, 5857, 5857, 5857, 5857, 5857,\n",
       "       5857, 5857, 5857, 5857, 5857, 5857, 5857, 5857, 5857, 5857, 5857,\n",
       "       5857, 5857, 5857, 5857, 5857, 5857, 5857, 5857, 5857, 5857, 5857,\n",
       "       5857, 5857, 5857, 5857, 5857, 5857, 5857, 5857, 5857, 5857, 5857,\n",
       "       5857, 5857, 5857, 5857, 5857, 5857, 5857, 5857, 5857, 5857, 5857,\n",
       "       5857, 5857, 5857, 5857, 5857, 5857, 5857], dtype=int32)"
      ]
     },
     "execution_count": 18,
     "metadata": {},
     "output_type": "execute_result"
    }
   ],
   "source": [
    "features[\"num_alignments\"]"
   ]
  },
  {
   "cell_type": "code",
   "execution_count": 20,
   "metadata": {},
   "outputs": [
    {
     "data": {
      "text/plain": [
       "(20, 370, 22)"
      ]
     },
     "execution_count": 20,
     "metadata": {},
     "output_type": "execute_result"
    }
   ],
   "source": [
    "features[\"template_aatype\"].shape"
   ]
  },
  {
   "cell_type": "code",
   "execution_count": 21,
   "metadata": {},
   "outputs": [
    {
     "data": {
      "text/plain": [
       "(20, 370, 37)"
      ]
     },
     "execution_count": 21,
     "metadata": {},
     "output_type": "execute_result"
    }
   ],
   "source": [
    "features[\"template_all_atom_masks\"].shape"
   ]
  },
  {
   "cell_type": "code",
   "execution_count": 24,
   "metadata": {},
   "outputs": [
    {
     "data": {
      "text/plain": [
       "(20, 370, 37, 3)"
      ]
     },
     "execution_count": 24,
     "metadata": {},
     "output_type": "execute_result"
    }
   ],
   "source": [
    "features[\"template_all_atom_positions\"].shape"
   ]
  },
  {
   "cell_type": "code",
   "execution_count": 26,
   "metadata": {},
   "outputs": [
    {
     "data": {
      "text/plain": [
       "(20,)"
      ]
     },
     "execution_count": 26,
     "metadata": {},
     "output_type": "execute_result"
    }
   ],
   "source": [
    "features[\"template_sequence\"].shape"
   ]
  },
  {
   "cell_type": "code",
   "execution_count": 27,
   "metadata": {},
   "outputs": [
    {
     "data": {
      "text/plain": [
       "array([b'2pbo_A', b'1eqp_A', b'1h4p_A', b'4m82_A', b'3ayr_A', b'4yhe_B',\n",
       "       b'4w8b_A', b'6d2w_A', b'4nf7_A', b'4w8a_A', b'5oyc_A', b'5oyc_B',\n",
       "       b'5d9o_B', b'3ndz_B', b'5e09_A', b'4w86_B', b'4yzt_A', b'5d9n_B',\n",
       "       b'6gl0_A', b'4w88_A'], dtype=object)"
      ]
     },
     "execution_count": 27,
     "metadata": {},
     "output_type": "execute_result"
    }
   ],
   "source": [
    "features[\"template_domain_names\"]"
   ]
  },
  {
   "cell_type": "code",
   "execution_count": 28,
   "metadata": {},
   "outputs": [],
   "source": [
    "with open(os.path.join(result_dir, \"result_model_1.pkl\"), \"rb\") as f:\n",
    "    result_model_1 = pkl.load(f)"
   ]
  },
  {
   "cell_type": "code",
   "execution_count": 29,
   "metadata": {},
   "outputs": [
    {
     "data": {
      "text/plain": [
       "dict_keys(['distogram', 'experimentally_resolved', 'masked_msa', 'predicted_lddt', 'structure_module', 'plddt'])"
      ]
     },
     "execution_count": 29,
     "metadata": {},
     "output_type": "execute_result"
    }
   ],
   "source": [
    "result_model_1.keys()"
   ]
  },
  {
   "cell_type": "code",
   "execution_count": 37,
   "metadata": {},
   "outputs": [
    {
     "data": {
      "text/plain": [
       "(370, 370, 64)"
      ]
     },
     "execution_count": 37,
     "metadata": {},
     "output_type": "execute_result"
    }
   ],
   "source": [
    "result_model_1[\"distogram\"][\"logits\"].shape"
   ]
  },
  {
   "cell_type": "code",
   "execution_count": 41,
   "metadata": {},
   "outputs": [
    {
     "data": {
      "text/plain": [
       "array([ 2.3125  ,  2.625   ,  2.9375  ,  3.25    ,  3.5625  ,  3.875   ,\n",
       "        4.1875  ,  4.5     ,  4.8125  ,  5.125   ,  5.4375  ,  5.75    ,\n",
       "        6.0625  ,  6.375   ,  6.6875  ,  7.      ,  7.3125  ,  7.625   ,\n",
       "        7.9375  ,  8.25    ,  8.5625  ,  8.875   ,  9.1875  ,  9.5     ,\n",
       "        9.812499, 10.125   , 10.4375  , 10.75    , 11.0625  , 11.375   ,\n",
       "       11.6875  , 12.      , 12.3125  , 12.625   , 12.9375  , 13.25    ,\n",
       "       13.5625  , 13.875   , 14.1875  , 14.5     , 14.8125  , 15.125   ,\n",
       "       15.4375  , 15.75    , 16.0625  , 16.375   , 16.6875  , 17.      ,\n",
       "       17.312498, 17.625   , 17.9375  , 18.25    , 18.5625  , 18.875   ,\n",
       "       19.1875  , 19.5     , 19.8125  , 20.125   , 20.4375  , 20.75    ,\n",
       "       21.0625  , 21.375   , 21.6875  ], dtype=float32)"
      ]
     },
     "execution_count": 41,
     "metadata": {},
     "output_type": "execute_result"
    }
   ],
   "source": [
    "result_model_1[\"distogram\"][\"bin_edges\"]"
   ]
  },
  {
   "cell_type": "code",
   "execution_count": 40,
   "metadata": {},
   "outputs": [
    {
     "data": {
      "text/plain": [
       "array([[-3.6312416, -3.595625 , -3.736333 , ..., -5.7128673, -4.381785 ,\n",
       "         0.       ],\n",
       "       [-3.1050386, -3.0935466, -3.2143645, ..., -2.4716146, -3.4694705,\n",
       "         0.       ],\n",
       "       [-4.0581274, -3.912579 , -4.0241656, ..., -2.4546034, -3.2165115,\n",
       "         0.       ],\n",
       "       ...,\n",
       "       [ 7.860423 ,  7.5761743,  7.9438424, ..., 23.441862 ,  7.129773 ,\n",
       "         0.       ],\n",
       "       [ 6.1013536,  5.7688546,  6.0068235, ..., 17.097486 ,  4.72556  ,\n",
       "         0.       ],\n",
       "       [ 2.5990973,  2.5357845,  2.6233401, ...,  9.978444 ,  1.0704286,\n",
       "         0.       ]], dtype=float32)"
      ]
     },
     "execution_count": 40,
     "metadata": {},
     "output_type": "execute_result"
    }
   ],
   "source": [
    "result_model_1[\"experimentally_resolved\"][\"logits\"]"
   ]
  },
  {
   "cell_type": "markdown",
   "metadata": {},
   "source": [
    "## Using --preset=reduced_dbs"
   ]
  },
  {
   "cell_type": "code",
   "execution_count": 3,
   "metadata": {},
   "outputs": [],
   "source": [
    "import pickle as pkl\n",
    "result_file = \"/mnt/scratch/boxiang/projects/alphafold/tmp/alphafold_small/T1050/result_model_1.pkl\"\n",
    "with open(result_file, \"rb\") as f:\n",
    "    result = pkl.load(f)"
   ]
  },
  {
   "cell_type": "code",
   "execution_count": 4,
   "metadata": {},
   "outputs": [
    {
     "data": {
      "text/plain": [
       "dict_keys(['distogram', 'experimentally_resolved', 'masked_msa', 'predicted_lddt', 'structure_module', 'plddt'])"
      ]
     },
     "execution_count": 4,
     "metadata": {},
     "output_type": "execute_result"
    }
   ],
   "source": [
    "result.keys()"
   ]
  },
  {
   "cell_type": "code",
   "execution_count": 6,
   "metadata": {},
   "outputs": [],
   "source": [
    "feature_file = \"/mnt/scratch/boxiang/projects/alphafold/tmp/alphafold_small/T1050/features.pkl\"\n",
    "with open(feature_file, \"rb\") as f:\n",
    "    features = pkl.load(f)"
   ]
  },
  {
   "cell_type": "code",
   "execution_count": 7,
   "metadata": {},
   "outputs": [
    {
     "data": {
      "text/plain": [
       "dict_keys(['aatype', 'between_segment_residues', 'domain_name', 'residue_index', 'seq_length', 'sequence', 'deletion_matrix_int', 'msa', 'num_alignments', 'template_aatype', 'template_all_atom_masks', 'template_all_atom_positions', 'template_domain_names', 'template_sequence', 'template_sum_probs'])"
      ]
     },
     "execution_count": 7,
     "metadata": {},
     "output_type": "execute_result"
    }
   ],
   "source": [
    "features.keys()"
   ]
  },
  {
   "cell_type": "code",
   "execution_count": null,
   "metadata": {},
   "outputs": [],
   "source": []
  }
 ],
 "metadata": {
  "kernelspec": {
   "display_name": "Python 3",
   "language": "python",
   "name": "python3"
  },
  "language_info": {
   "codemirror_mode": {
    "name": "ipython",
    "version": 3
   },
   "file_extension": ".py",
   "mimetype": "text/x-python",
   "name": "python",
   "nbconvert_exporter": "python",
   "pygments_lexer": "ipython3",
   "version": "3.6.9"
  }
 },
 "nbformat": 4,
 "nbformat_minor": 5
}
